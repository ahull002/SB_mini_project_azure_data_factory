{
 "cells": [
  {
   "cell_type": "markdown",
   "id": "beautiful-cooking",
   "metadata": {},
   "source": [
    "# Azure Mini Project: HDInsight\n",
    "![Design Blocks](https://images.unsplash.com/photo-1611974789855-9c2a0a7236a3?ixid=MnwxMjA3fDB8MHxwaG90by1wYWdlfHx8fGVufDB8fHx8&ixlib=rb-1.2.1&auto=format&fit=crop&w=2100&q=80)\n",
    "Image by: Maxim Hopman\n",
    "\n",
    "\n",
    "## Table of contents\n",
    "* [What is this?](#what-is-this)\n",
    "\n",
    "\n",
    "## What is this?\n",
    "Today, data is being generated and stored in staggering amounts at unprecedented velocities. To make things more complicated, this data is generated in an ever-expanding variety of formats. \n",
    "\n",
    "In order to gain actionable insights into Big Data sources, new tools need to be leveraged that allow the data to be cleaned, analyzed, and visualized quickly and efficiently. Azure\n",
    "HDInsight provides one solution to this problem. HDInsight makes it simple to create high-performance computing clusters equipped with Apache Spark and Spark ecosystem tools. This tool allows you to focus your time on the data itself rather than deploying, installing, configuring and maintaining the resources required to analyze the data. Apache Spark is an open-source parallel-processing platform that excels at running large-scale data analytics jobs. Spark’s combined use of in-memory and disk data storage delivers performance improvements that allow it to process some tasks up to 100 times faster than Hadoop. Azure makes deploying Spark clusters relatively simple and allows you to work on your data analysis sooner.\n",
    "\n",
    "In this mini-project, you’ll get hands-on experience with Apache Spark for Azure HDInsight. After provisioning a Spark cluster, you will use the Microsoft Azure Storage Explorer to add a\n",
    "Jupyter Notebook to the cluster. You will then use the notebook to explore and analyze Walmart stock data. Your goal is to learn how to create and utilize your own Spark clusters, provision them with Azure, and get a working introduction to Spark data analytics.\n",
    "\n",
    "__Exercises:__\n",
    "* Exercise 1: Create a Spark Cluster on HDInsight\n",
    "* Exercise 2: Upload Jupyter Notebook to the cluster\n",
    "* Exercise 3: Work with Jupyter Notebooks\n",
    "* Exercise 4: Remove the HDInsight Spark cluster\n",
    "\n",
    "__Deliverables:__\n",
    "* 1. Jupyter Notebook with code to achieve stated objective in each cell\n",
    "* 2. A PPT/Word-doc with screenshots of each step as performed according to this lab\n",
    "_____"
   ]
  },
  {
   "cell_type": "code",
   "execution_count": null,
   "id": "purple-purpose",
   "metadata": {},
   "outputs": [],
   "source": []
  }
 ],
 "metadata": {
  "kernelspec": {
   "display_name": "Python 3",
   "language": "python",
   "name": "python3"
  },
  "language_info": {
   "codemirror_mode": {
    "name": "ipython",
    "version": 3
   },
   "file_extension": ".py",
   "mimetype": "text/x-python",
   "name": "python",
   "nbconvert_exporter": "python",
   "pygments_lexer": "ipython3",
   "version": "3.8.8"
  }
 },
 "nbformat": 4,
 "nbformat_minor": 5
}
